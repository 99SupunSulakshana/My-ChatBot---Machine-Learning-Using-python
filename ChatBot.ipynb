{
  "cells": [
    {
      "cell_type": "markdown",
      "metadata": {
        "id": "iYbl4HCmnFZq"
      },
      "source": [
        "Importing the required libraries \n"
      ]
    },
    {
      "cell_type": "code",
      "execution_count": null,
      "metadata": {
        "id": "FkCwu6_EnRGZ"
      },
      "outputs": [],
      "source": [
        "import numpy as np\n",
        "import nltk\n",
        "import string\n",
        "import random"
      ]
    },
    {
      "cell_type": "markdown",
      "metadata": {
        "id": "xr4vafLOnlPR"
      },
      "source": [
        "Importing and reading the corpus"
      ]
    },
    {
      "cell_type": "code",
      "execution_count": null,
      "metadata": {
        "id": "Ti60sNVsnkto"
      },
      "outputs": [],
      "source": [
        "f = open('chatbot.txt','r', errors = 'ignore')\n",
        "raw_doc = f.read()\n",
        "raw_doc = raw_doc.lower()# Converts text to lowercase\n",
        "nltk.download('punkt')#Using the punkt tokenizer\n",
        "nltk.download('wordnet')#Using the wordnet dictionary\n",
        "sent_tokens = nltk.sent_tokenize(raw_doc) # Converts doc to list of sentences\n",
        "word_tokens = nltk.word_tokenize(raw_doc)#converts "
      ]
    },
    {
      "cell_type": "markdown",
      "source": [
        "Example of sentance tokens"
      ],
      "metadata": {
        "id": "w5o2sqwBmRTq"
      }
    },
    {
      "cell_type": "code",
      "source": [
        "sent_tokens[:2]"
      ],
      "metadata": {
        "id": "op-rBJbcx6_h"
      },
      "execution_count": null,
      "outputs": []
    },
    {
      "cell_type": "markdown",
      "source": [
        "Example of word tokens"
      ],
      "metadata": {
        "id": "f91yv7Asq-W_"
      }
    },
    {
      "cell_type": "code",
      "source": [
        "word_tokens[:2]"
      ],
      "metadata": {
        "id": "aTKt6WMsq8sh"
      },
      "execution_count": null,
      "outputs": []
    },
    {
      "cell_type": "markdown",
      "source": [
        "Text preprocessing"
      ],
      "metadata": {
        "id": "bYWurKB2riAN"
      }
    },
    {
      "cell_type": "code",
      "source": [
        "lemmer = nltk.stem.WordNetLemmatizer()\n",
        "# WordNet is a semantically- oriented dictionary of English included in NLTK\n",
        "def LemTokens(tokens):\n",
        "  return [lemmer.lemmatize(token) for token in tokens]\n",
        "remove_punct_dict = dict((ord(punct),None) for punct in string.punctuation)\n",
        "def LemNormalize(text):\n",
        "  return LemTokens(nltk.word_tokenize(text.lower().translate(remove_punct_dict)))"
      ],
      "metadata": {
        "id": "TMQH99rJrloV"
      },
      "execution_count": null,
      "outputs": []
    },
    {
      "cell_type": "markdown",
      "source": [
        "Defining the greeting function"
      ],
      "metadata": {
        "id": "aT47RHevtKkU"
      }
    },
    {
      "cell_type": "code",
      "source": [
        "GREET_INPUTS = (\"hello\",\"hi\",\"greetings\",\"sup\",\"what's up\",\"hey\")\n",
        "GREET_RESPONSES = [\"hi\",\"hey\",\"*nods*\",\"hi there\",\"hello\",\"I am glad! You are talking to me\"]\n",
        "def greet(sentence):\n",
        "  for word in sentence.split():\n",
        "    if word.lower() in GREET_INPUTS:\n",
        "      return random.choice(GREET_RESPONSES)"
      ],
      "metadata": {
        "id": "KKSZh8bmtOND"
      },
      "execution_count": null,
      "outputs": []
    },
    {
      "cell_type": "markdown",
      "source": [
        "Renponse generation"
      ],
      "metadata": {
        "id": "Yx3t882CuK-B"
      }
    },
    {
      "cell_type": "code",
      "source": [
        "from sklearn.feature_extraction.text import TfidfVectorizer\n",
        "from sklearn.metrics.pairwise import cosine_similarity"
      ],
      "metadata": {
        "id": "DHbhs5q_uPcp"
      },
      "execution_count": null,
      "outputs": []
    },
    {
      "cell_type": "code",
      "source": [
        "def response(user_response):\n",
        "  robo1_response = ''\n",
        "  TfidfVec = TfidfVectorizer(tokenizer=LemNormalize, stop_words=\"english\")\n",
        "  tfidf = TfidfVec.fit_transform(sent_tokens)\n",
        "  vals = cosine_similarity(tfidf[-1],tfidf)\n",
        "  idx = vals.argsort()[0][-2]\n",
        "  flat = vals.flatten()\n",
        "  flat.sort()\n",
        "  req_tfidf = flat[-2]\n",
        "  if(req_tfidf==0):\n",
        "    robo1_response=robo1_response+\"I am sorry! I donot understand you\"\n",
        "    return robo1_response\n",
        "  else:\n",
        "    robo1_response = robo1_response+sent_tokens[idx]\n",
        "    return robo1_response"
      ],
      "metadata": {
        "id": "3lf8LXMyu11V"
      },
      "execution_count": null,
      "outputs": []
    },
    {
      "cell_type": "markdown",
      "source": [
        "Defining conversation start/end protocols"
      ],
      "metadata": {
        "id": "xI9J7Z0MxFod"
      }
    },
    {
      "cell_type": "code",
      "source": [
        "from pickle import FALSE\n",
        "flag=True\n",
        "print(\"BOT: My name is Suppa. Let's have a conversation! Also, if you want to exit any time, Just type Bye!\")\n",
        "while(flag==True):\n",
        "    user_response = input()\n",
        "    user_response = user_response.lower()\n",
        "    if(user_response!='bye'):\n",
        "      if(user_response=='thanks' or user_response=='thank you!'):\n",
        "        flag=False\n",
        "        print(\"BOT: you are welcome buddy!\")\n",
        "      else:\n",
        "        if(greet(user_response)!=None):\n",
        "          print(\"BOT: \"+greet(user_response))\n",
        "        else:\n",
        "          sent_tokens.append(user_response)\n",
        "          word_tokens=word_tokens+nltk.word_tokenize(user_response)\n",
        "          final_words=list(set(word_tokens))\n",
        "          print(\"BOT: \",end=\"\")\n",
        "          print(response(user_response))\n",
        "          sent_tokens.remove(user_response)\n",
        "    else:\n",
        "      flag=False\n",
        "      print(\"BOT: GoodBye! Take care<3\")\n",
        "\n"
      ],
      "metadata": {
        "id": "VteE2SU4xNsm"
      },
      "execution_count": null,
      "outputs": []
    }
  ],
  "metadata": {
    "colab": {
      "name": "ChatBot.ipynb",
      "provenance": []
    },
    "kernelspec": {
      "display_name": "Python 3",
      "name": "python3"
    },
    "language_info": {
      "name": "python"
    }
  },
  "nbformat": 4,
  "nbformat_minor": 0
}